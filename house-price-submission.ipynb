{
 "cells": [
  {
   "cell_type": "code",
   "execution_count": 1,
   "id": "1959c66c",
   "metadata": {
    "execution": {
     "iopub.execute_input": "2023-04-17T20:06:21.221532Z",
     "iopub.status.busy": "2023-04-17T20:06:21.219922Z",
     "iopub.status.idle": "2023-04-17T20:06:22.462726Z",
     "shell.execute_reply": "2023-04-17T20:06:22.461453Z"
    },
    "papermill": {
     "duration": 1.255469,
     "end_time": "2023-04-17T20:06:22.466454",
     "exception": false,
     "start_time": "2023-04-17T20:06:21.210985",
     "status": "completed"
    },
    "tags": []
   },
   "outputs": [],
   "source": [
    "import numpy as np\n",
    "import pandas as pd\n",
    "import matplotlib.pyplot as plt\n",
    "import copy\n",
    "import math\n",
    "from sklearn.linear_model import LinearRegression\n",
    "from sklearn.model_selection import train_test_split\n",
    "from sklearn.metrics import mean_squared_error"
   ]
  },
  {
   "cell_type": "code",
   "execution_count": 2,
   "id": "0c595299",
   "metadata": {
    "execution": {
     "iopub.execute_input": "2023-04-17T20:06:22.485262Z",
     "iopub.status.busy": "2023-04-17T20:06:22.483906Z",
     "iopub.status.idle": "2023-04-17T20:06:22.575110Z",
     "shell.execute_reply": "2023-04-17T20:06:22.574006Z"
    },
    "papermill": {
     "duration": 0.103808,
     "end_time": "2023-04-17T20:06:22.578084",
     "exception": false,
     "start_time": "2023-04-17T20:06:22.474276",
     "status": "completed"
    },
    "tags": []
   },
   "outputs": [],
   "source": [
    "house_train_original = pd.read_csv('train.csv')\n",
    "house_test_original = pd.read_csv('test.csv')"
   ]
  },
  {
   "cell_type": "code",
   "execution_count": 3,
   "id": "58e5dde4",
   "metadata": {
    "execution": {
     "iopub.execute_input": "2023-04-17T20:06:22.590801Z",
     "iopub.status.busy": "2023-04-17T20:06:22.590353Z",
     "iopub.status.idle": "2023-04-17T20:06:22.599500Z",
     "shell.execute_reply": "2023-04-17T20:06:22.598224Z"
    },
    "papermill": {
     "duration": 0.019511,
     "end_time": "2023-04-17T20:06:22.603158",
     "exception": false,
     "start_time": "2023-04-17T20:06:22.583647",
     "status": "completed"
    },
    "tags": []
   },
   "outputs": [
    {
     "data": {
      "text/plain": [
       "Index(['Id', 'MSSubClass', 'MSZoning', 'LotFrontage', 'LotArea', 'Street',\n",
       "       'Alley', 'LotShape', 'LandContour', 'Utilities', 'LotConfig',\n",
       "       'LandSlope', 'Neighborhood', 'Condition1', 'Condition2', 'BldgType',\n",
       "       'HouseStyle', 'OverallQual', 'OverallCond', 'YearBuilt', 'YearRemodAdd',\n",
       "       'RoofStyle', 'RoofMatl', 'Exterior1st', 'Exterior2nd', 'MasVnrType',\n",
       "       'MasVnrArea', 'ExterQual', 'ExterCond', 'Foundation', 'BsmtQual',\n",
       "       'BsmtCond', 'BsmtExposure', 'BsmtFinType1', 'BsmtFinSF1',\n",
       "       'BsmtFinType2', 'BsmtFinSF2', 'BsmtUnfSF', 'TotalBsmtSF', 'Heating',\n",
       "       'HeatingQC', 'CentralAir', 'Electrical', '1stFlrSF', '2ndFlrSF',\n",
       "       'LowQualFinSF', 'GrLivArea', 'BsmtFullBath', 'BsmtHalfBath', 'FullBath',\n",
       "       'HalfBath', 'BedroomAbvGr', 'KitchenAbvGr', 'KitchenQual',\n",
       "       'TotRmsAbvGrd', 'Functional', 'Fireplaces', 'FireplaceQu', 'GarageType',\n",
       "       'GarageYrBlt', 'GarageFinish', 'GarageCars', 'GarageArea', 'GarageQual',\n",
       "       'GarageCond', 'PavedDrive', 'WoodDeckSF', 'OpenPorchSF',\n",
       "       'EnclosedPorch', '3SsnPorch', 'ScreenPorch', 'PoolArea', 'PoolQC',\n",
       "       'Fence', 'MiscFeature', 'MiscVal', 'MoSold', 'YrSold', 'SaleType',\n",
       "       'SaleCondition', 'SalePrice'],\n",
       "      dtype='object')"
      ]
     },
     "execution_count": 3,
     "metadata": {},
     "output_type": "execute_result"
    }
   ],
   "source": [
    "house_train_original.columns"
   ]
  },
  {
   "cell_type": "code",
   "execution_count": 23,
   "id": "517df0f9",
   "metadata": {},
   "outputs": [
    {
     "data": {
      "text/html": [
       "<div>\n",
       "<style scoped>\n",
       "    .dataframe tbody tr th:only-of-type {\n",
       "        vertical-align: middle;\n",
       "    }\n",
       "\n",
       "    .dataframe tbody tr th {\n",
       "        vertical-align: top;\n",
       "    }\n",
       "\n",
       "    .dataframe thead th {\n",
       "        text-align: right;\n",
       "    }\n",
       "</style>\n",
       "<table border=\"1\" class=\"dataframe\">\n",
       "  <thead>\n",
       "    <tr style=\"text-align: right;\">\n",
       "      <th></th>\n",
       "      <th>Id</th>\n",
       "      <th>MSSubClass</th>\n",
       "      <th>LotFrontage</th>\n",
       "      <th>LotArea</th>\n",
       "      <th>OverallQual</th>\n",
       "      <th>OverallCond</th>\n",
       "      <th>YearBuilt</th>\n",
       "      <th>YearRemodAdd</th>\n",
       "      <th>MasVnrArea</th>\n",
       "      <th>BsmtFinSF1</th>\n",
       "      <th>...</th>\n",
       "      <th>WoodDeckSF</th>\n",
       "      <th>OpenPorchSF</th>\n",
       "      <th>EnclosedPorch</th>\n",
       "      <th>3SsnPorch</th>\n",
       "      <th>ScreenPorch</th>\n",
       "      <th>PoolArea</th>\n",
       "      <th>MiscVal</th>\n",
       "      <th>MoSold</th>\n",
       "      <th>YrSold</th>\n",
       "      <th>SalePrice</th>\n",
       "    </tr>\n",
       "  </thead>\n",
       "  <tbody>\n",
       "    <tr>\n",
       "      <th>count</th>\n",
       "      <td>1460.000000</td>\n",
       "      <td>1460.000000</td>\n",
       "      <td>1201.000000</td>\n",
       "      <td>1460.000000</td>\n",
       "      <td>1460.000000</td>\n",
       "      <td>1460.000000</td>\n",
       "      <td>1460.000000</td>\n",
       "      <td>1460.000000</td>\n",
       "      <td>1452.000000</td>\n",
       "      <td>1460.000000</td>\n",
       "      <td>...</td>\n",
       "      <td>1460.000000</td>\n",
       "      <td>1460.000000</td>\n",
       "      <td>1460.000000</td>\n",
       "      <td>1460.000000</td>\n",
       "      <td>1460.000000</td>\n",
       "      <td>1460.000000</td>\n",
       "      <td>1460.000000</td>\n",
       "      <td>1460.000000</td>\n",
       "      <td>1460.000000</td>\n",
       "      <td>1460.000000</td>\n",
       "    </tr>\n",
       "    <tr>\n",
       "      <th>mean</th>\n",
       "      <td>730.500000</td>\n",
       "      <td>56.897260</td>\n",
       "      <td>70.049958</td>\n",
       "      <td>10516.828082</td>\n",
       "      <td>6.099315</td>\n",
       "      <td>5.575342</td>\n",
       "      <td>1971.267808</td>\n",
       "      <td>1984.865753</td>\n",
       "      <td>103.685262</td>\n",
       "      <td>443.639726</td>\n",
       "      <td>...</td>\n",
       "      <td>94.244521</td>\n",
       "      <td>46.660274</td>\n",
       "      <td>21.954110</td>\n",
       "      <td>3.409589</td>\n",
       "      <td>15.060959</td>\n",
       "      <td>2.758904</td>\n",
       "      <td>43.489041</td>\n",
       "      <td>6.321918</td>\n",
       "      <td>2007.815753</td>\n",
       "      <td>180921.195890</td>\n",
       "    </tr>\n",
       "    <tr>\n",
       "      <th>std</th>\n",
       "      <td>421.610009</td>\n",
       "      <td>42.300571</td>\n",
       "      <td>24.284752</td>\n",
       "      <td>9981.264932</td>\n",
       "      <td>1.382997</td>\n",
       "      <td>1.112799</td>\n",
       "      <td>30.202904</td>\n",
       "      <td>20.645407</td>\n",
       "      <td>181.066207</td>\n",
       "      <td>456.098091</td>\n",
       "      <td>...</td>\n",
       "      <td>125.338794</td>\n",
       "      <td>66.256028</td>\n",
       "      <td>61.119149</td>\n",
       "      <td>29.317331</td>\n",
       "      <td>55.757415</td>\n",
       "      <td>40.177307</td>\n",
       "      <td>496.123024</td>\n",
       "      <td>2.703626</td>\n",
       "      <td>1.328095</td>\n",
       "      <td>79442.502883</td>\n",
       "    </tr>\n",
       "    <tr>\n",
       "      <th>min</th>\n",
       "      <td>1.000000</td>\n",
       "      <td>20.000000</td>\n",
       "      <td>21.000000</td>\n",
       "      <td>1300.000000</td>\n",
       "      <td>1.000000</td>\n",
       "      <td>1.000000</td>\n",
       "      <td>1872.000000</td>\n",
       "      <td>1950.000000</td>\n",
       "      <td>0.000000</td>\n",
       "      <td>0.000000</td>\n",
       "      <td>...</td>\n",
       "      <td>0.000000</td>\n",
       "      <td>0.000000</td>\n",
       "      <td>0.000000</td>\n",
       "      <td>0.000000</td>\n",
       "      <td>0.000000</td>\n",
       "      <td>0.000000</td>\n",
       "      <td>0.000000</td>\n",
       "      <td>1.000000</td>\n",
       "      <td>2006.000000</td>\n",
       "      <td>34900.000000</td>\n",
       "    </tr>\n",
       "    <tr>\n",
       "      <th>25%</th>\n",
       "      <td>365.750000</td>\n",
       "      <td>20.000000</td>\n",
       "      <td>59.000000</td>\n",
       "      <td>7553.500000</td>\n",
       "      <td>5.000000</td>\n",
       "      <td>5.000000</td>\n",
       "      <td>1954.000000</td>\n",
       "      <td>1967.000000</td>\n",
       "      <td>0.000000</td>\n",
       "      <td>0.000000</td>\n",
       "      <td>...</td>\n",
       "      <td>0.000000</td>\n",
       "      <td>0.000000</td>\n",
       "      <td>0.000000</td>\n",
       "      <td>0.000000</td>\n",
       "      <td>0.000000</td>\n",
       "      <td>0.000000</td>\n",
       "      <td>0.000000</td>\n",
       "      <td>5.000000</td>\n",
       "      <td>2007.000000</td>\n",
       "      <td>129975.000000</td>\n",
       "    </tr>\n",
       "    <tr>\n",
       "      <th>50%</th>\n",
       "      <td>730.500000</td>\n",
       "      <td>50.000000</td>\n",
       "      <td>69.000000</td>\n",
       "      <td>9478.500000</td>\n",
       "      <td>6.000000</td>\n",
       "      <td>5.000000</td>\n",
       "      <td>1973.000000</td>\n",
       "      <td>1994.000000</td>\n",
       "      <td>0.000000</td>\n",
       "      <td>383.500000</td>\n",
       "      <td>...</td>\n",
       "      <td>0.000000</td>\n",
       "      <td>25.000000</td>\n",
       "      <td>0.000000</td>\n",
       "      <td>0.000000</td>\n",
       "      <td>0.000000</td>\n",
       "      <td>0.000000</td>\n",
       "      <td>0.000000</td>\n",
       "      <td>6.000000</td>\n",
       "      <td>2008.000000</td>\n",
       "      <td>163000.000000</td>\n",
       "    </tr>\n",
       "    <tr>\n",
       "      <th>75%</th>\n",
       "      <td>1095.250000</td>\n",
       "      <td>70.000000</td>\n",
       "      <td>80.000000</td>\n",
       "      <td>11601.500000</td>\n",
       "      <td>7.000000</td>\n",
       "      <td>6.000000</td>\n",
       "      <td>2000.000000</td>\n",
       "      <td>2004.000000</td>\n",
       "      <td>166.000000</td>\n",
       "      <td>712.250000</td>\n",
       "      <td>...</td>\n",
       "      <td>168.000000</td>\n",
       "      <td>68.000000</td>\n",
       "      <td>0.000000</td>\n",
       "      <td>0.000000</td>\n",
       "      <td>0.000000</td>\n",
       "      <td>0.000000</td>\n",
       "      <td>0.000000</td>\n",
       "      <td>8.000000</td>\n",
       "      <td>2009.000000</td>\n",
       "      <td>214000.000000</td>\n",
       "    </tr>\n",
       "    <tr>\n",
       "      <th>max</th>\n",
       "      <td>1460.000000</td>\n",
       "      <td>190.000000</td>\n",
       "      <td>313.000000</td>\n",
       "      <td>215245.000000</td>\n",
       "      <td>10.000000</td>\n",
       "      <td>9.000000</td>\n",
       "      <td>2010.000000</td>\n",
       "      <td>2010.000000</td>\n",
       "      <td>1600.000000</td>\n",
       "      <td>5644.000000</td>\n",
       "      <td>...</td>\n",
       "      <td>857.000000</td>\n",
       "      <td>547.000000</td>\n",
       "      <td>552.000000</td>\n",
       "      <td>508.000000</td>\n",
       "      <td>480.000000</td>\n",
       "      <td>738.000000</td>\n",
       "      <td>15500.000000</td>\n",
       "      <td>12.000000</td>\n",
       "      <td>2010.000000</td>\n",
       "      <td>755000.000000</td>\n",
       "    </tr>\n",
       "  </tbody>\n",
       "</table>\n",
       "<p>8 rows × 38 columns</p>\n",
       "</div>"
      ],
      "text/plain": [
       "                Id   MSSubClass  LotFrontage        LotArea  OverallQual  \\\n",
       "count  1460.000000  1460.000000  1201.000000    1460.000000  1460.000000   \n",
       "mean    730.500000    56.897260    70.049958   10516.828082     6.099315   \n",
       "std     421.610009    42.300571    24.284752    9981.264932     1.382997   \n",
       "min       1.000000    20.000000    21.000000    1300.000000     1.000000   \n",
       "25%     365.750000    20.000000    59.000000    7553.500000     5.000000   \n",
       "50%     730.500000    50.000000    69.000000    9478.500000     6.000000   \n",
       "75%    1095.250000    70.000000    80.000000   11601.500000     7.000000   \n",
       "max    1460.000000   190.000000   313.000000  215245.000000    10.000000   \n",
       "\n",
       "       OverallCond    YearBuilt  YearRemodAdd   MasVnrArea   BsmtFinSF1  ...  \\\n",
       "count  1460.000000  1460.000000   1460.000000  1452.000000  1460.000000  ...   \n",
       "mean      5.575342  1971.267808   1984.865753   103.685262   443.639726  ...   \n",
       "std       1.112799    30.202904     20.645407   181.066207   456.098091  ...   \n",
       "min       1.000000  1872.000000   1950.000000     0.000000     0.000000  ...   \n",
       "25%       5.000000  1954.000000   1967.000000     0.000000     0.000000  ...   \n",
       "50%       5.000000  1973.000000   1994.000000     0.000000   383.500000  ...   \n",
       "75%       6.000000  2000.000000   2004.000000   166.000000   712.250000  ...   \n",
       "max       9.000000  2010.000000   2010.000000  1600.000000  5644.000000  ...   \n",
       "\n",
       "        WoodDeckSF  OpenPorchSF  EnclosedPorch    3SsnPorch  ScreenPorch  \\\n",
       "count  1460.000000  1460.000000    1460.000000  1460.000000  1460.000000   \n",
       "mean     94.244521    46.660274      21.954110     3.409589    15.060959   \n",
       "std     125.338794    66.256028      61.119149    29.317331    55.757415   \n",
       "min       0.000000     0.000000       0.000000     0.000000     0.000000   \n",
       "25%       0.000000     0.000000       0.000000     0.000000     0.000000   \n",
       "50%       0.000000    25.000000       0.000000     0.000000     0.000000   \n",
       "75%     168.000000    68.000000       0.000000     0.000000     0.000000   \n",
       "max     857.000000   547.000000     552.000000   508.000000   480.000000   \n",
       "\n",
       "          PoolArea       MiscVal       MoSold       YrSold      SalePrice  \n",
       "count  1460.000000   1460.000000  1460.000000  1460.000000    1460.000000  \n",
       "mean      2.758904     43.489041     6.321918  2007.815753  180921.195890  \n",
       "std      40.177307    496.123024     2.703626     1.328095   79442.502883  \n",
       "min       0.000000      0.000000     1.000000  2006.000000   34900.000000  \n",
       "25%       0.000000      0.000000     5.000000  2007.000000  129975.000000  \n",
       "50%       0.000000      0.000000     6.000000  2008.000000  163000.000000  \n",
       "75%       0.000000      0.000000     8.000000  2009.000000  214000.000000  \n",
       "max     738.000000  15500.000000    12.000000  2010.000000  755000.000000  \n",
       "\n",
       "[8 rows x 38 columns]"
      ]
     },
     "execution_count": 23,
     "metadata": {},
     "output_type": "execute_result"
    }
   ],
   "source": [
    "house_train_original.describe()"
   ]
  },
  {
   "cell_type": "code",
   "execution_count": 4,
   "id": "194fad77",
   "metadata": {
    "execution": {
     "iopub.execute_input": "2023-04-17T20:06:22.616741Z",
     "iopub.status.busy": "2023-04-17T20:06:22.615925Z",
     "iopub.status.idle": "2023-04-17T20:06:22.644079Z",
     "shell.execute_reply": "2023-04-17T20:06:22.642645Z"
    },
    "papermill": {
     "duration": 0.038284,
     "end_time": "2023-04-17T20:06:22.647037",
     "exception": false,
     "start_time": "2023-04-17T20:06:22.608753",
     "status": "completed"
    },
    "tags": []
   },
   "outputs": [
    {
     "data": {
      "text/plain": [
       "<bound method NDFrame.describe of      Neighborhood BldgType  BedroomAbvGr  FullBath  SalePrice\n",
       "0         CollgCr     1Fam             3         2     208500\n",
       "1         Veenker     1Fam             3         2     181500\n",
       "2         CollgCr     1Fam             3         2     223500\n",
       "3         Crawfor     1Fam             3         1     140000\n",
       "4         NoRidge     1Fam             4         2     250000\n",
       "...           ...      ...           ...       ...        ...\n",
       "1455      Gilbert     1Fam             3         2     175000\n",
       "1456       NWAmes     1Fam             3         2     210000\n",
       "1457      Crawfor     1Fam             4         2     266500\n",
       "1458        NAmes     1Fam             2         1     142125\n",
       "1459      Edwards     1Fam             3         1     147500\n",
       "\n",
       "[1460 rows x 5 columns]>"
      ]
     },
     "execution_count": 4,
     "metadata": {},
     "output_type": "execute_result"
    }
   ],
   "source": [
    "house_train_before_na = house_train_original[[ 'Neighborhood', 'BldgType', 'BedroomAbvGr', 'FullBath', 'SalePrice']]\n",
    "house_train = house_train_before_na.dropna(axis=0)\n",
    "house_train.describe"
   ]
  },
  {
   "cell_type": "code",
   "execution_count": 5,
   "id": "91dce293",
   "metadata": {
    "execution": {
     "iopub.execute_input": "2023-04-17T20:06:22.660961Z",
     "iopub.status.busy": "2023-04-17T20:06:22.660422Z",
     "iopub.status.idle": "2023-04-17T20:06:22.668124Z",
     "shell.execute_reply": "2023-04-17T20:06:22.666755Z"
    },
    "papermill": {
     "duration": 0.017556,
     "end_time": "2023-04-17T20:06:22.670503",
     "exception": false,
     "start_time": "2023-04-17T20:06:22.652947",
     "status": "completed"
    },
    "tags": []
   },
   "outputs": [],
   "source": [
    "house_train_x = house_train[['Neighborhood', 'BldgType', 'BedroomAbvGr', 'FullBath']]\n",
    "house_train_y = house_train[['SalePrice']]"
   ]
  },
  {
   "cell_type": "code",
   "execution_count": 6,
   "id": "5c5c037d",
   "metadata": {
    "execution": {
     "iopub.execute_input": "2023-04-17T20:06:22.694139Z",
     "iopub.status.busy": "2023-04-17T20:06:22.693351Z",
     "iopub.status.idle": "2023-04-17T20:06:22.707418Z",
     "shell.execute_reply": "2023-04-17T20:06:22.705615Z"
    },
    "papermill": {
     "duration": 0.034397,
     "end_time": "2023-04-17T20:06:22.710827",
     "exception": false,
     "start_time": "2023-04-17T20:06:22.676430",
     "status": "completed"
    },
    "tags": []
   },
   "outputs": [],
   "source": [
    "house_train_x = pd.get_dummies(house_train_x, columns=['Neighborhood'], prefix=\"Neighborhood\", drop_first=True)"
   ]
  },
  {
   "cell_type": "code",
   "execution_count": 7,
   "id": "6c14767f",
   "metadata": {
    "execution": {
     "iopub.execute_input": "2023-04-17T20:06:22.726519Z",
     "iopub.status.busy": "2023-04-17T20:06:22.725266Z",
     "iopub.status.idle": "2023-04-17T20:06:22.735372Z",
     "shell.execute_reply": "2023-04-17T20:06:22.733765Z"
    },
    "papermill": {
     "duration": 0.020415,
     "end_time": "2023-04-17T20:06:22.738459",
     "exception": false,
     "start_time": "2023-04-17T20:06:22.718044",
     "status": "completed"
    },
    "tags": []
   },
   "outputs": [],
   "source": [
    "house_train_x = pd.get_dummies(house_train_x, columns=['BldgType'], prefix=\"BldgType\", drop_first=True)"
   ]
  },
  {
   "cell_type": "code",
   "execution_count": 8,
   "id": "f82b0530",
   "metadata": {
    "execution": {
     "iopub.execute_input": "2023-04-17T20:06:22.752014Z",
     "iopub.status.busy": "2023-04-17T20:06:22.751199Z",
     "iopub.status.idle": "2023-04-17T20:06:22.759415Z",
     "shell.execute_reply": "2023-04-17T20:06:22.758445Z"
    },
    "papermill": {
     "duration": 0.01753,
     "end_time": "2023-04-17T20:06:22.761721",
     "exception": false,
     "start_time": "2023-04-17T20:06:22.744191",
     "status": "completed"
    },
    "tags": []
   },
   "outputs": [
    {
     "data": {
      "text/plain": [
       "Index(['BedroomAbvGr', 'FullBath', 'Neighborhood_Blueste',\n",
       "       'Neighborhood_BrDale', 'Neighborhood_BrkSide', 'Neighborhood_ClearCr',\n",
       "       'Neighborhood_CollgCr', 'Neighborhood_Crawfor', 'Neighborhood_Edwards',\n",
       "       'Neighborhood_Gilbert', 'Neighborhood_IDOTRR', 'Neighborhood_MeadowV',\n",
       "       'Neighborhood_Mitchel', 'Neighborhood_NAmes', 'Neighborhood_NPkVill',\n",
       "       'Neighborhood_NWAmes', 'Neighborhood_NoRidge', 'Neighborhood_NridgHt',\n",
       "       'Neighborhood_OldTown', 'Neighborhood_SWISU', 'Neighborhood_Sawyer',\n",
       "       'Neighborhood_SawyerW', 'Neighborhood_Somerst', 'Neighborhood_StoneBr',\n",
       "       'Neighborhood_Timber', 'Neighborhood_Veenker', 'BldgType_2fmCon',\n",
       "       'BldgType_Duplex', 'BldgType_Twnhs', 'BldgType_TwnhsE'],\n",
       "      dtype='object')"
      ]
     },
     "execution_count": 8,
     "metadata": {},
     "output_type": "execute_result"
    }
   ],
   "source": [
    "house_train_x.columns"
   ]
  },
  {
   "cell_type": "code",
   "execution_count": 9,
   "id": "350e1a08",
   "metadata": {
    "execution": {
     "iopub.execute_input": "2023-04-17T20:06:22.775493Z",
     "iopub.status.busy": "2023-04-17T20:06:22.774694Z",
     "iopub.status.idle": "2023-04-17T20:06:22.818160Z",
     "shell.execute_reply": "2023-04-17T20:06:22.816844Z"
    },
    "papermill": {
     "duration": 0.054064,
     "end_time": "2023-04-17T20:06:22.821571",
     "exception": false,
     "start_time": "2023-04-17T20:06:22.767507",
     "status": "completed"
    },
    "tags": []
   },
   "outputs": [
    {
     "data": {
      "text/html": [
       "<style>#sk-container-id-1 {color: black;background-color: white;}#sk-container-id-1 pre{padding: 0;}#sk-container-id-1 div.sk-toggleable {background-color: white;}#sk-container-id-1 label.sk-toggleable__label {cursor: pointer;display: block;width: 100%;margin-bottom: 0;padding: 0.3em;box-sizing: border-box;text-align: center;}#sk-container-id-1 label.sk-toggleable__label-arrow:before {content: \"▸\";float: left;margin-right: 0.25em;color: #696969;}#sk-container-id-1 label.sk-toggleable__label-arrow:hover:before {color: black;}#sk-container-id-1 div.sk-estimator:hover label.sk-toggleable__label-arrow:before {color: black;}#sk-container-id-1 div.sk-toggleable__content {max-height: 0;max-width: 0;overflow: hidden;text-align: left;background-color: #f0f8ff;}#sk-container-id-1 div.sk-toggleable__content pre {margin: 0.2em;color: black;border-radius: 0.25em;background-color: #f0f8ff;}#sk-container-id-1 input.sk-toggleable__control:checked~div.sk-toggleable__content {max-height: 200px;max-width: 100%;overflow: auto;}#sk-container-id-1 input.sk-toggleable__control:checked~label.sk-toggleable__label-arrow:before {content: \"▾\";}#sk-container-id-1 div.sk-estimator input.sk-toggleable__control:checked~label.sk-toggleable__label {background-color: #d4ebff;}#sk-container-id-1 div.sk-label input.sk-toggleable__control:checked~label.sk-toggleable__label {background-color: #d4ebff;}#sk-container-id-1 input.sk-hidden--visually {border: 0;clip: rect(1px 1px 1px 1px);clip: rect(1px, 1px, 1px, 1px);height: 1px;margin: -1px;overflow: hidden;padding: 0;position: absolute;width: 1px;}#sk-container-id-1 div.sk-estimator {font-family: monospace;background-color: #f0f8ff;border: 1px dotted black;border-radius: 0.25em;box-sizing: border-box;margin-bottom: 0.5em;}#sk-container-id-1 div.sk-estimator:hover {background-color: #d4ebff;}#sk-container-id-1 div.sk-parallel-item::after {content: \"\";width: 100%;border-bottom: 1px solid gray;flex-grow: 1;}#sk-container-id-1 div.sk-label:hover label.sk-toggleable__label {background-color: #d4ebff;}#sk-container-id-1 div.sk-serial::before {content: \"\";position: absolute;border-left: 1px solid gray;box-sizing: border-box;top: 0;bottom: 0;left: 50%;z-index: 0;}#sk-container-id-1 div.sk-serial {display: flex;flex-direction: column;align-items: center;background-color: white;padding-right: 0.2em;padding-left: 0.2em;position: relative;}#sk-container-id-1 div.sk-item {position: relative;z-index: 1;}#sk-container-id-1 div.sk-parallel {display: flex;align-items: stretch;justify-content: center;background-color: white;position: relative;}#sk-container-id-1 div.sk-item::before, #sk-container-id-1 div.sk-parallel-item::before {content: \"\";position: absolute;border-left: 1px solid gray;box-sizing: border-box;top: 0;bottom: 0;left: 50%;z-index: -1;}#sk-container-id-1 div.sk-parallel-item {display: flex;flex-direction: column;z-index: 1;position: relative;background-color: white;}#sk-container-id-1 div.sk-parallel-item:first-child::after {align-self: flex-end;width: 50%;}#sk-container-id-1 div.sk-parallel-item:last-child::after {align-self: flex-start;width: 50%;}#sk-container-id-1 div.sk-parallel-item:only-child::after {width: 0;}#sk-container-id-1 div.sk-dashed-wrapped {border: 1px dashed gray;margin: 0 0.4em 0.5em 0.4em;box-sizing: border-box;padding-bottom: 0.4em;background-color: white;}#sk-container-id-1 div.sk-label label {font-family: monospace;font-weight: bold;display: inline-block;line-height: 1.2em;}#sk-container-id-1 div.sk-label-container {text-align: center;}#sk-container-id-1 div.sk-container {/* jupyter's `normalize.less` sets `[hidden] { display: none; }` but bootstrap.min.css set `[hidden] { display: none !important; }` so we also need the `!important` here to be able to override the default hidden behavior on the sphinx rendered scikit-learn.org. See: https://github.com/scikit-learn/scikit-learn/issues/21755 */display: inline-block !important;position: relative;}#sk-container-id-1 div.sk-text-repr-fallback {display: none;}</style><div id=\"sk-container-id-1\" class=\"sk-top-container\"><div class=\"sk-text-repr-fallback\"><pre>LinearRegression()</pre><b>In a Jupyter environment, please rerun this cell to show the HTML representation or trust the notebook. <br />On GitHub, the HTML representation is unable to render, please try loading this page with nbviewer.org.</b></div><div class=\"sk-container\" hidden><div class=\"sk-item\"><div class=\"sk-estimator sk-toggleable\"><input class=\"sk-toggleable__control sk-hidden--visually\" id=\"sk-estimator-id-1\" type=\"checkbox\" checked><label for=\"sk-estimator-id-1\" class=\"sk-toggleable__label sk-toggleable__label-arrow\">LinearRegression</label><div class=\"sk-toggleable__content\"><pre>LinearRegression()</pre></div></div></div></div></div>"
      ],
      "text/plain": [
       "LinearRegression()"
      ]
     },
     "execution_count": 9,
     "metadata": {},
     "output_type": "execute_result"
    }
   ],
   "source": [
    "linear_model = LinearRegression()\n",
    "linear_model.fit(house_train_x, house_train_y) "
   ]
  },
  {
   "cell_type": "code",
   "execution_count": 10,
   "id": "01b4ca59",
   "metadata": {
    "execution": {
     "iopub.execute_input": "2023-04-17T20:06:22.851252Z",
     "iopub.status.busy": "2023-04-17T20:06:22.850644Z",
     "iopub.status.idle": "2023-04-17T20:06:22.860743Z",
     "shell.execute_reply": "2023-04-17T20:06:22.859451Z"
    },
    "papermill": {
     "duration": 0.033212,
     "end_time": "2023-04-17T20:06:22.865885",
     "exception": false,
     "start_time": "2023-04-17T20:06:22.832673",
     "status": "completed"
    },
    "tags": []
   },
   "outputs": [
    {
     "name": "stdout",
     "output_type": "stream",
     "text": [
      "w = [[   2805.56333488   44471.08727484  -25405.09213918  -37550.89008586\n",
      "   -83746.16261428  -20003.36025542  -37575.17444484  -12745.60350617\n",
      "   -84545.06693781  -56358.77537582 -104367.41254545  -49535.03398569\n",
      "   -56535.06843795  -65426.25163596  -47244.21414849  -55398.80226364\n",
      "    79179.50937278   81816.57674618  -88108.39641401  -91168.27273412\n",
      "   -73998.7381256   -42610.89668885   -4957.99608477   89562.03391164\n",
      "    -2597.26175979   32628.78649511  -22526.44305355  -44370.91490846\n",
      "   -77723.2263008   -49870.27718109]], b = [152981.30463067]\n",
      "(1, 30)\n"
     ]
    }
   ],
   "source": [
    "b = linear_model.intercept_\n",
    "w = linear_model.coef_\n",
    "print(f\"w = {w}, b = {b}\")\n",
    "print(w.shape)"
   ]
  },
  {
   "cell_type": "code",
   "execution_count": 11,
   "id": "c4b7be40",
   "metadata": {
    "execution": {
     "iopub.execute_input": "2023-04-17T20:06:22.906964Z",
     "iopub.status.busy": "2023-04-17T20:06:22.906354Z",
     "iopub.status.idle": "2023-04-17T20:06:22.914883Z",
     "shell.execute_reply": "2023-04-17T20:06:22.913537Z"
    },
    "papermill": {
     "duration": 0.036167,
     "end_time": "2023-04-17T20:06:22.918173",
     "exception": false,
     "start_time": "2023-04-17T20:06:22.882006",
     "status": "completed"
    },
    "tags": []
   },
   "outputs": [],
   "source": [
    "house_test_x = house_test_original[[ 'Neighborhood', 'BldgType', 'BedroomAbvGr', 'FullBath']]"
   ]
  },
  {
   "cell_type": "code",
   "execution_count": 12,
   "id": "dcaa5e7b",
   "metadata": {
    "execution": {
     "iopub.execute_input": "2023-04-17T20:06:22.935296Z",
     "iopub.status.busy": "2023-04-17T20:06:22.934263Z",
     "iopub.status.idle": "2023-04-17T20:06:22.943348Z",
     "shell.execute_reply": "2023-04-17T20:06:22.942367Z"
    },
    "papermill": {
     "duration": 0.020908,
     "end_time": "2023-04-17T20:06:22.946293",
     "exception": false,
     "start_time": "2023-04-17T20:06:22.925385",
     "status": "completed"
    },
    "tags": []
   },
   "outputs": [],
   "source": [
    "house_test_x = pd.get_dummies(house_test_x, columns=['Neighborhood'], prefix=\"Neighborhood\", drop_first=True)"
   ]
  },
  {
   "cell_type": "code",
   "execution_count": 13,
   "id": "5e48a82e",
   "metadata": {
    "execution": {
     "iopub.execute_input": "2023-04-17T20:06:22.959645Z",
     "iopub.status.busy": "2023-04-17T20:06:22.959267Z",
     "iopub.status.idle": "2023-04-17T20:06:22.969974Z",
     "shell.execute_reply": "2023-04-17T20:06:22.968975Z"
    },
    "papermill": {
     "duration": 0.020435,
     "end_time": "2023-04-17T20:06:22.972651",
     "exception": false,
     "start_time": "2023-04-17T20:06:22.952216",
     "status": "completed"
    },
    "tags": []
   },
   "outputs": [
    {
     "data": {
      "text/plain": [
       "Index(['BedroomAbvGr', 'FullBath', 'Neighborhood_Blueste',\n",
       "       'Neighborhood_BrDale', 'Neighborhood_BrkSide', 'Neighborhood_ClearCr',\n",
       "       'Neighborhood_CollgCr', 'Neighborhood_Crawfor', 'Neighborhood_Edwards',\n",
       "       'Neighborhood_Gilbert', 'Neighborhood_IDOTRR', 'Neighborhood_MeadowV',\n",
       "       'Neighborhood_Mitchel', 'Neighborhood_NAmes', 'Neighborhood_NPkVill',\n",
       "       'Neighborhood_NWAmes', 'Neighborhood_NoRidge', 'Neighborhood_NridgHt',\n",
       "       'Neighborhood_OldTown', 'Neighborhood_SWISU', 'Neighborhood_Sawyer',\n",
       "       'Neighborhood_SawyerW', 'Neighborhood_Somerst', 'Neighborhood_StoneBr',\n",
       "       'Neighborhood_Timber', 'Neighborhood_Veenker', 'BldgType_2fmCon',\n",
       "       'BldgType_Duplex', 'BldgType_Twnhs', 'BldgType_TwnhsE'],\n",
       "      dtype='object')"
      ]
     },
     "execution_count": 13,
     "metadata": {},
     "output_type": "execute_result"
    }
   ],
   "source": [
    "house_test_x = pd.get_dummies(house_test_x, columns=['BldgType'], prefix=\"BldgType\", drop_first=True)\n",
    "house_test_x.columns"
   ]
  },
  {
   "cell_type": "code",
   "execution_count": 14,
   "id": "7edc00b1",
   "metadata": {
    "execution": {
     "iopub.execute_input": "2023-04-17T20:06:22.992837Z",
     "iopub.status.busy": "2023-04-17T20:06:22.992032Z",
     "iopub.status.idle": "2023-04-17T20:06:22.998587Z",
     "shell.execute_reply": "2023-04-17T20:06:22.997336Z"
    },
    "papermill": {
     "duration": 0.020085,
     "end_time": "2023-04-17T20:06:23.001685",
     "exception": false,
     "start_time": "2023-04-17T20:06:22.981600",
     "status": "completed"
    },
    "tags": []
   },
   "outputs": [
    {
     "data": {
      "text/plain": [
       "(1459, 30)"
      ]
     },
     "execution_count": 14,
     "metadata": {},
     "output_type": "execute_result"
    }
   ],
   "source": [
    "house_test_x.shape"
   ]
  },
  {
   "cell_type": "code",
   "execution_count": 15,
   "id": "354c4198",
   "metadata": {
    "execution": {
     "iopub.execute_input": "2023-04-17T20:06:23.022702Z",
     "iopub.status.busy": "2023-04-17T20:06:23.021518Z",
     "iopub.status.idle": "2023-04-17T20:06:23.026587Z",
     "shell.execute_reply": "2023-04-17T20:06:23.025673Z"
    },
    "papermill": {
     "duration": 0.018478,
     "end_time": "2023-04-17T20:06:23.029430",
     "exception": false,
     "start_time": "2023-04-17T20:06:23.010952",
     "status": "completed"
    },
    "tags": []
   },
   "outputs": [],
   "source": [
    "w_r = w.reshape(30,1)"
   ]
  },
  {
   "cell_type": "code",
   "execution_count": 26,
   "id": "7c21dc9a",
   "metadata": {},
   "outputs": [],
   "source": [
    "y_pred = linear_model.predict(house_test_x)"
   ]
  },
  {
   "cell_type": "code",
   "execution_count": 27,
   "id": "a968fea3",
   "metadata": {},
   "outputs": [
    {
     "data": {
      "text/plain": [
       "array([[137637.2669393 ],\n",
       "       [140442.83027418],\n",
       "       [193981.39380917],\n",
       "       ...,\n",
       "       [152139.57680707],\n",
       "       [149334.01347219],\n",
       "       [193805.10074703]])"
      ]
     },
     "execution_count": 27,
     "metadata": {},
     "output_type": "execute_result"
    }
   ],
   "source": [
    "y_pred"
   ]
  },
  {
   "cell_type": "code",
   "execution_count": 28,
   "id": "735c533d",
   "metadata": {
    "execution": {
     "iopub.execute_input": "2023-04-17T20:06:23.112966Z",
     "iopub.status.busy": "2023-04-17T20:06:23.112266Z",
     "iopub.status.idle": "2023-04-17T20:06:23.119804Z",
     "shell.execute_reply": "2023-04-17T20:06:23.118459Z"
    },
    "papermill": {
     "duration": 0.035793,
     "end_time": "2023-04-17T20:06:23.123031",
     "exception": false,
     "start_time": "2023-04-17T20:06:23.087238",
     "status": "completed"
    },
    "tags": []
   },
   "outputs": [],
   "source": [
    "submission = pd.DataFrame()"
   ]
  },
  {
   "cell_type": "code",
   "execution_count": 29,
   "id": "7fa337cb",
   "metadata": {
    "execution": {
     "iopub.execute_input": "2023-04-17T20:06:23.165009Z",
     "iopub.status.busy": "2023-04-17T20:06:23.164315Z",
     "iopub.status.idle": "2023-04-17T20:06:23.175125Z",
     "shell.execute_reply": "2023-04-17T20:06:23.173797Z"
    },
    "papermill": {
     "duration": 0.038468,
     "end_time": "2023-04-17T20:06:23.177839",
     "exception": false,
     "start_time": "2023-04-17T20:06:23.139371",
     "status": "completed"
    },
    "tags": []
   },
   "outputs": [],
   "source": [
    "submission[[ 'Id']] = house_test_original[[ 'Id']]\n",
    "submission[['SalePrice']] = y_pred"
   ]
  },
  {
   "cell_type": "code",
   "execution_count": 30,
   "id": "10cfb751",
   "metadata": {
    "execution": {
     "iopub.execute_input": "2023-04-17T20:06:23.192593Z",
     "iopub.status.busy": "2023-04-17T20:06:23.191943Z",
     "iopub.status.idle": "2023-04-17T20:06:23.202268Z",
     "shell.execute_reply": "2023-04-17T20:06:23.200839Z"
    },
    "papermill": {
     "duration": 0.020585,
     "end_time": "2023-04-17T20:06:23.204656",
     "exception": false,
     "start_time": "2023-04-17T20:06:23.184071",
     "status": "completed"
    },
    "tags": []
   },
   "outputs": [
    {
     "name": "stdout",
     "output_type": "stream",
     "text": [
      "        Id      SalePrice\n",
      "0     1461  137637.266939\n",
      "1     1462  140442.830274\n",
      "2     1463  193981.393809\n",
      "3     1464  193981.393809\n",
      "4     1465  287226.362581\n",
      "...    ...            ...\n",
      "1454  2915   78610.821624\n",
      "1455  2916  106463.770743\n",
      "1456  2917  152139.576807\n",
      "1457  2918  149334.013472\n",
      "1458  2919  193805.100747\n",
      "\n",
      "[1459 rows x 2 columns]\n"
     ]
    }
   ],
   "source": [
    "print(submission)"
   ]
  },
  {
   "cell_type": "code",
   "execution_count": 31,
   "id": "b9f31bfc",
   "metadata": {
    "execution": {
     "iopub.execute_input": "2023-04-17T20:06:23.220163Z",
     "iopub.status.busy": "2023-04-17T20:06:23.219002Z",
     "iopub.status.idle": "2023-04-17T20:06:23.235215Z",
     "shell.execute_reply": "2023-04-17T20:06:23.234165Z"
    },
    "papermill": {
     "duration": 0.026888,
     "end_time": "2023-04-17T20:06:23.238017",
     "exception": false,
     "start_time": "2023-04-17T20:06:23.211129",
     "status": "completed"
    },
    "tags": []
   },
   "outputs": [],
   "source": [
    "output = pd.DataFrame({'Id': submission.Id, 'SalePrice': submission.SalePrice})\n",
    "output.to_csv('submission.csv', index=False)"
   ]
  }
 ],
 "metadata": {
  "kernelspec": {
   "display_name": "Python 3 (ipykernel)",
   "language": "python",
   "name": "python3"
  },
  "language_info": {
   "codemirror_mode": {
    "name": "ipython",
    "version": 3
   },
   "file_extension": ".py",
   "mimetype": "text/x-python",
   "name": "python",
   "nbconvert_exporter": "python",
   "pygments_lexer": "ipython3",
   "version": "3.10.9"
  },
  "papermill": {
   "default_parameters": {},
   "duration": 13.112096,
   "end_time": "2023-04-17T20:06:23.968157",
   "environment_variables": {},
   "exception": null,
   "input_path": "__notebook__.ipynb",
   "output_path": "__notebook__.ipynb",
   "parameters": {},
   "start_time": "2023-04-17T20:06:10.856061",
   "version": "2.4.0"
  }
 },
 "nbformat": 4,
 "nbformat_minor": 5
}
